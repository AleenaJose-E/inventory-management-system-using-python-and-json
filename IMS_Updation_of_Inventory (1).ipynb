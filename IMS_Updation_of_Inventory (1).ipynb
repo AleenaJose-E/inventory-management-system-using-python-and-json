{
  "nbformat": 4,
  "nbformat_minor": 0,
  "metadata": {
    "colab": {
      "name": "IMS-Updation_of_Inventory.ipynb",
      "provenance": [],
      "collapsed_sections": []
    },
    "kernelspec": {
      "display_name": "Python 3",
      "name": "python3"
    },
    "language_info": {
      "name": "python"
    }
  },
  "cells": [
    {
      "cell_type": "code",
      "metadata": {
        "id": "hiRiBf_G9EX9"
      },
      "source": [
        "import json\n",
        "fd = open(\"record.json\",'r')\n",
        "r = fd.read()\n",
        "fd.close()\n",
        "\n",
        "record = json.loads(r)"
      ],
      "execution_count": 9,
      "outputs": []
    },
    {
      "cell_type": "code",
      "metadata": {
        "colab": {
          "base_uri": "https://localhost:8080/"
        },
        "id": "83h9ZWSDPkF0",
        "outputId": "e527b361-7d8b-4388-b4ea-a27b77b78d02"
      },
      "source": [
        "record"
      ],
      "execution_count": 10,
      "outputs": [
        {
          "output_type": "execute_result",
          "data": {
            "text/plain": [
              "{'1001': {'name': 'Choco Cake', 'pr': 100, 'qn': 40},\n",
              " '1002': {'name': 'Milk Cake', 'pr': 800, 'qn': 145},\n",
              " '1003': {'name': 'Drink', 'pr': 85, 'qn': 100},\n",
              " '1004': {'name': 'Candy', 'pr': 5, 'qn': 1000},\n",
              " '1005': {'name': 'Pen', 'pr': 20, 'qn': 100},\n",
              " '1006': {'name': 'Phone', 'pr': 50000, 'qn': 10},\n",
              " '1007': {'name': 'Mic', 'pr': 1500, 'qn': 0},\n",
              " '1008': {'name': 'Case', 'pr': 599, 'qn': 5},\n",
              " '1009': {'name': 'Keyboard', 'pr': 1999, 'qn': 10},\n",
              " '1010': {'name': 'Noodles', 'pr': 25, 'qn': 34},\n",
              " '1011': {'name': 'Chicken', 'pr': 150, 'qn': 20},\n",
              " '1012': {'name': 'Mangoes per Kg', 'pr': 100, 'qn': 16},\n",
              " '1013': {'name': 'Bathing bar', 'pr': 20, 'qn': 40},\n",
              " '1014': {'name': 'Cake', 'pr': 250, 'qn': 90},\n",
              " '1015': {'name': \"Kid's dress\", 'pr': 200, 'qn': 20},\n",
              " '1016': {'name': 'Milk', 'pr': 25, 'qn': 30},\n",
              " '1017': {'name': 'Chilly powder', 'pr': 35, 'qn': 50},\n",
              " '1018': {'name': 'fish', 'pr': 45, 'qn': 20},\n",
              " '1019': {'name': 'CFL', 'pr': 80, 'qn': 48},\n",
              " '1020': {'name': 'Note Book', 'pr': 45, 'qn': 67},\n",
              " '1021': {'name': 'Snacks', 'pr': 39, 'qn': 59},\n",
              " '1022': {'name': 'Steel Plate', 'pr': 50, 'qn': 45},\n",
              " '1023': {'name': 'Women Sandals', 'pr': 500, 'qn': 72},\n",
              " '1024': {'name': 'Mobile Phone', 'pr': 25000, 'qn': 23},\n",
              " '1025': {'name': 'Laptop', 'pr': 75000, 'qn': 23},\n",
              " '1026': {'name': 'Bread', 'pr': 25, 'qn': 3},\n",
              " '1027': {'name': 'T-shirts', 'pr': 100, 'qn': 30},\n",
              " '1028': {'name': 'Rice', 'pr': 35, 'qn': 175},\n",
              " '1029': {'name': 'Peanut butter', 'pr': 50, 'qn': 80},\n",
              " '1030': {'name': 'Cherry', 'pr': 10, 'qn': 39},\n",
              " '1031': {'name': 'Biscut', 'pr': 30, 'qn': 25}}"
            ]
          },
          "metadata": {},
          "execution_count": 10
        }
      ]
    },
    {
      "cell_type": "code",
      "metadata": {
        "id": "nfsQqBlb9SAu",
        "colab": {
          "base_uri": "https://localhost:8080/"
        },
        "outputId": "c9df6959-4a69-482e-f7b3-3af085e9e1eb"
      },
      "source": [
        "flag=0\n",
        "prod_id = str(input(\"Enter product id:\"))\n",
        "qn = int(input(\"Enter quantity:\"))\n",
        "for i in record.keys():\n",
        "  if (i==prod_id):\n",
        "    record[prod_id]['qn']+=qn\n",
        "    flag=1\n",
        "    print ('Product quantity updated successfully')\n",
        "if (flag!=1):\n",
        "   name = str(input(\"Enter name:\"))\n",
        "   pr = int(input(\"Enter price:\"))\n",
        "   record[prod_id] = {'name': name, 'pr': pr, 'qn': qn}\n",
        "   print('New product added to the inventory successfully')\n",
        "js = json.dumps(record)\n",
        "fd = open(\"record.json\",'w')\n",
        "fd.write(js)\n",
        "fd.close()"
      ],
      "execution_count": null,
      "outputs": [
        {
          "output_type": "stream",
          "name": "stdout",
          "text": [
            "Enter product id:1031\n",
            "Enter quantity:25\n",
            "Enter name:Biscut\n",
            "Enter price:30\n",
            "New product added to the inventory successfully\n"
          ]
        }
      ]
    },
    {
      "cell_type": "code",
      "metadata": {
        "colab": {
          "base_uri": "https://localhost:8080/"
        },
        "id": "l9bId7zfRGgB",
        "outputId": "9e3d0b64-e76e-41e5-f277-4283af5d4a0d"
      },
      "source": [
        "record"
      ],
      "execution_count": null,
      "outputs": [
        {
          "output_type": "execute_result",
          "data": {
            "text/plain": [
              "{'1001': {'name': 'Choco Cake', 'pr': 100, 'qn': 40},\n",
              " '1002': {'name': 'Milk Cake', 'pr': 800, 'qn': 145},\n",
              " '1003': {'name': 'Drink', 'pr': 85, 'qn': 100},\n",
              " '1004': {'name': 'Candy', 'pr': 5, 'qn': 1000},\n",
              " '1005': {'name': 'Pen', 'pr': 20, 'qn': 100},\n",
              " '1006': {'name': 'Phone', 'pr': 50000, 'qn': 10},\n",
              " '1007': {'name': 'Mic', 'pr': 1500, 'qn': 0},\n",
              " '1008': {'name': 'Case', 'pr': 599, 'qn': 5},\n",
              " '1009': {'name': 'Keyboard', 'pr': 1999, 'qn': 10},\n",
              " '1010': {'name': 'Noodles', 'pr': 25, 'qn': 34},\n",
              " '1011': {'name': 'Chicken', 'pr': 150, 'qn': 20},\n",
              " '1012': {'name': 'Mangoes per Kg', 'pr': 100, 'qn': 16},\n",
              " '1013': {'name': 'Bathing bar', 'pr': 20, 'qn': 40},\n",
              " '1014': {'name': 'Cake', 'pr': 250, 'qn': 90},\n",
              " '1015': {'name': \"Kid's dress\", 'pr': 200, 'qn': 20},\n",
              " '1016': {'name': 'Milk', 'pr': 25, 'qn': 30},\n",
              " '1017': {'name': 'Chilly powder', 'pr': 35, 'qn': 50},\n",
              " '1018': {'name': 'fish', 'pr': 45, 'qn': 20},\n",
              " '1019': {'name': 'CFL', 'pr': 80, 'qn': 48},\n",
              " '1020': {'name': 'Note Book', 'pr': 45, 'qn': 67},\n",
              " '1021': {'name': 'Snacks', 'pr': 39, 'qn': 59},\n",
              " '1022': {'name': 'Steel Plate', 'pr': 50, 'qn': 45},\n",
              " '1023': {'name': 'Women Sandals', 'pr': 500, 'qn': 72},\n",
              " '1024': {'name': 'Mobile Phone', 'pr': 25000, 'qn': 23},\n",
              " '1025': {'name': 'Laptop', 'pr': 75000, 'qn': 23},\n",
              " '1026': {'name': 'Bread', 'pr': 25, 'qn': 3},\n",
              " '1027': {'name': 'T-shirts', 'pr': 100, 'qn': 30},\n",
              " '1028': {'name': 'Rice', 'pr': 35, 'qn': 175},\n",
              " '1029': {'name': 'Peanut butter', 'pr': 50, 'qn': 80},\n",
              " '1030': {'name': 'Cherry', 'pr': 10, 'qn': 39},\n",
              " '1031': {'name': 'Biscut', 'pr': 30, 'qn': 25}}"
            ]
          },
          "metadata": {},
          "execution_count": 6
        }
      ]
    },
    {
      "cell_type": "code",
      "metadata": {
        "id": "G1v-bSsi8ZoU"
      },
      "source": [
        "js = json.dumps(record)\n",
        "fd = open(\"record.json\",'w')\n",
        "fd.write(js)\n",
        "fd.close()"
      ],
      "execution_count": 8,
      "outputs": []
    }
  ]
}