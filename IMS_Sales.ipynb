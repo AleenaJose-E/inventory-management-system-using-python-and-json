{
  "nbformat": 4,
  "nbformat_minor": 0,
  "metadata": {
    "colab": {
      "name": "IMS-Sales.ipynb",
      "provenance": [],
      "collapsed_sections": []
    },
    "kernelspec": {
      "name": "python3",
      "display_name": "Python 3"
    },
    "language_info": {
      "name": "python"
    }
  },
  "cells": [
    {
      "cell_type": "code",
      "metadata": {
        "id": "uITs0TaCYtbN"
      },
      "source": [
        "import time\n",
        "import json\n",
        "fd = open(\"record.json\",'r')\n",
        "r = fd.read()\n",
        "fd.close()\n",
        "records = json.loads(r)"
      ],
      "execution_count": 26,
      "outputs": []
    },
    {
      "cell_type": "code",
      "metadata": {
        "id": "m0p-G5hzZiAC",
        "colab": {
          "base_uri": "https://localhost:8080/"
        },
        "outputId": "73195e3a-7019-4029-ce57-4bdd5f3dadad"
      },
      "source": [
        "records"
      ],
      "execution_count": 27,
      "outputs": [
        {
          "output_type": "execute_result",
          "data": {
            "text/plain": [
              "{'1001': {'name': 'Choco Cake', 'pr': 100, 'qn': 40},\n",
              " '1002': {'name': 'Milk Cake', 'pr': 800, 'qn': 145},\n",
              " '1003': {'name': 'Drink', 'pr': 85, 'qn': 100},\n",
              " '1004': {'name': 'Candy', 'pr': 5, 'qn': 1000},\n",
              " '1005': {'name': 'Pen', 'pr': 20, 'qn': 100},\n",
              " '1006': {'name': 'Phone', 'pr': 50000, 'qn': 7},\n",
              " '1007': {'name': 'Mic', 'pr': 1500, 'qn': 0},\n",
              " '1008': {'name': 'Case', 'pr': 599, 'qn': 1},\n",
              " '1009': {'name': 'Keyboard', 'pr': 1999, 'qn': 10},\n",
              " '1010': {'name': 'Noodles', 'pr': 25, 'qn': 34},\n",
              " '1011': {'name': 'Chicken', 'pr': 150, 'qn': 20},\n",
              " '1012': {'name': 'Mangoes per Kg', 'pr': 100, 'qn': 16},\n",
              " '1013': {'name': 'Bathing bar', 'pr': 20, 'qn': 40},\n",
              " '1014': {'name': 'Cake', 'pr': 250, 'qn': 90},\n",
              " '1015': {'name': \"Kid's dress\", 'pr': 200, 'qn': 20},\n",
              " '1016': {'name': 'Milk', 'pr': 25, 'qn': 30},\n",
              " '1017': {'name': 'Chilly powder', 'pr': 35, 'qn': 50},\n",
              " '1018': {'name': 'fish', 'pr': 45, 'qn': 20},\n",
              " '1019': {'name': 'CFL', 'pr': 80, 'qn': 48},\n",
              " '1020': {'name': 'Note Book', 'pr': 45, 'qn': 53},\n",
              " '1021': {'name': 'Snacks', 'pr': 39, 'qn': 56},\n",
              " '1022': {'name': 'Steel Plate', 'pr': 50, 'qn': 44},\n",
              " '1023': {'name': 'Women Sandals', 'pr': 500, 'qn': 67},\n",
              " '1024': {'name': 'Mobile Phone', 'pr': 25000, 'qn': 20},\n",
              " '1025': {'name': 'Laptop', 'pr': 75000, 'qn': 23},\n",
              " '1026': {'name': 'Bread', 'pr': 25, 'qn': 3},\n",
              " '1027': {'name': 'T-shirts', 'pr': 100, 'qn': 30},\n",
              " '1028': {'name': 'Rice', 'pr': 35, 'qn': 175},\n",
              " '1029': {'name': 'Peanut butter', 'pr': 50, 'qn': 80},\n",
              " '1030': {'name': 'Cherry', 'pr': 10, 'qn': 39}}"
            ]
          },
          "metadata": {},
          "execution_count": 27
        }
      ]
    },
    {
      "cell_type": "code",
      "metadata": {
        "id": "Jr5M_EU7_w9s"
      },
      "source": [
        "sales={1:{'prod id':1004,'Quantity':2,'Amount':10}}"
      ],
      "execution_count": 10,
      "outputs": []
    },
    {
      "cell_type": "code",
      "metadata": {
        "id": "_9g1cLpupNAs",
        "colab": {
          "base_uri": "https://localhost:8080/"
        },
        "outputId": "98efde93-8ca9-49f1-970c-ca631d327a92"
      },
      "source": [
        "flag=0\n",
        "instock=0\n",
        "remaining=0\n",
        "\n",
        "ui_prod  = str(input(\"Enter the product_Id: \"))\n",
        "for i in records.keys():\n",
        "  if (i==ui_prod):\n",
        "   ui_quant = int(input(\"Enter the quantity: \"))\n",
        "   flag=1\n",
        "   instock=records[ui_prod]['qn']\n",
        "   print(instock)\n",
        "   if (instock>0):\n",
        "    #product is in stock\n",
        "    print('Product is available')\n",
        "    if (instock>ui_quant):\n",
        "     # number of products is greater than user needs\n",
        "     print('Billing time:')\n",
        "     print(time.ctime())\n",
        "     print(\"Product: \", records[ui_prod]['name'])\n",
        "     print(\"Price: \", records[ui_prod]['pr'])\n",
        "     print(\"Billing Amount: \", records[ui_prod]['pr'] * ui_quant)\n",
        "     records[ui_prod]['qn'] = records[ui_prod]['qn'] - ui_quant\n",
        "     remaining=records[ui_prod]['qn']\n",
        "     print('Stock left: ')\n",
        "     print(remaining)\n",
        "     sales[len(sales)+1] = {'prod_id': ui_prod, 'Quantity': ui_quant, 'Amount':  ui_quant*records[ui_prod]['pr']}\n",
        "    else:\n",
        "      print('instock: ')\n",
        "      print(instock)\n",
        "      consent = str(input(\"If you want to purchase, type y: \"))\n",
        "      if (consent=='y'):\n",
        "        print('Billing time:')\n",
        "        print(time.ctime())\n",
        "        print(\"Product: \", records[ui_prod]['name'])\n",
        "        print(\"Price: \", records[ui_prod]['pr'])\n",
        "        print(\"Billing Amount: \", records[ui_prod]['pr'] * instock)\n",
        "        records[ui_prod]['qn'] = 0\n",
        "        remaining=0\n",
        "        print('Stock left: ')\n",
        "        print(remaining)\n",
        "        sales[len(sales)+1] = {'prod_id': ui_prod, 'Quantity': ui_quant, 'Amount':instock*records[ui_prod]['pr']}\n",
        "   else:\n",
        "     print(\"Product is unavailable\") \n",
        "if (flag==0):\n",
        "  print(\"Product not found\")  \n",
        "js = json.dumps(records)\n",
        "fd = open(\"record.json\",'w')\n",
        "fd.write(js)\n",
        "fd.close()\n"
      ],
      "execution_count": 22,
      "outputs": [
        {
          "output_type": "stream",
          "name": "stdout",
          "text": [
            "Enter the product_Id: 1024\n",
            "Enter the quantity: 3\n",
            "23\n",
            "Product is available\n",
            "Billing time:\n",
            "Sun Sep  5 17:43:04 2021\n",
            "Product:  Mobile Phone\n",
            "Price:  25000\n",
            "Billing Amount:  75000\n",
            "Stock left: \n",
            "20\n"
          ]
        }
      ]
    },
    {
      "cell_type": "code",
      "metadata": {
        "id": "IJj-4Zp4glGw",
        "colab": {
          "base_uri": "https://localhost:8080/"
        },
        "outputId": "658b9fa1-df98-4fe1-8d13-4560a8a83d3c"
      },
      "source": [
        "sales"
      ],
      "execution_count": 23,
      "outputs": [
        {
          "output_type": "execute_result",
          "data": {
            "text/plain": [
              "{1: {'Amount': 10, 'Quantity': 2, 'prod id': 1004},\n",
              " 2: {'Amount': 150000, 'Quantity': 3, 'prod_id': '1006'},\n",
              " 3: {'Amount': 180, 'Quantity': 4, 'prod_id': '1020'},\n",
              " 4: {'Amount': 117, 'Quantity': 3, 'prod_id': '1021'},\n",
              " 5: {'Amount': 50, 'Quantity': 1, 'prod_id': '1022'},\n",
              " 6: {'Amount': 75000, 'Quantity': 3, 'prod_id': '1024'}}"
            ]
          },
          "metadata": {},
          "execution_count": 23
        }
      ]
    },
    {
      "cell_type": "code",
      "metadata": {
        "id": "Oranqksroer5"
      },
      "source": [
        "jso = json.dumps(sales)\n",
        "fd = open(\"sales.json\",'w')\n",
        "fd.write(jso)\n",
        "fd.close()"
      ],
      "execution_count": 24,
      "outputs": []
    },
    {
      "cell_type": "code",
      "metadata": {
        "colab": {
          "base_uri": "https://localhost:8080/",
          "height": 90
        },
        "id": "wmCIsNyxppBu",
        "outputId": "e02b99b7-f26d-4757-955e-758573392754"
      },
      "source": [
        "fd = open(\"sales.json\",'r')\n",
        "txt= fd.read()\n",
        "txt"
      ],
      "execution_count": 25,
      "outputs": [
        {
          "output_type": "execute_result",
          "data": {
            "application/vnd.google.colaboratory.intrinsic+json": {
              "type": "string"
            },
            "text/plain": [
              "'{\"1\": {\"prod id\": 1004, \"Quantity\": 2, \"Amount\": 10}, \"2\": {\"prod_id\": \"1006\", \"Quantity\": 3, \"Amount\": 150000}, \"3\": {\"prod_id\": \"1020\", \"Quantity\": 4, \"Amount\": 180}, \"4\": {\"prod_id\": \"1021\", \"Quantity\": 3, \"Amount\": 117}, \"5\": {\"prod_id\": \"1022\", \"Quantity\": 1, \"Amount\": 50}, \"6\": {\"prod_id\": \"1024\", \"Quantity\": 3, \"Amount\": 75000}}'"
            ]
          },
          "metadata": {},
          "execution_count": 25
        }
      ]
    }
  ]
}